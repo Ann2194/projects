{
 "cells": [
  {
   "cell_type": "code",
   "execution_count": 1,
   "metadata": {
    "collapsed": true
   },
   "outputs": [],
   "source": [
    "import numpy as np\n",
    "import pandas as pd\n",
    "from os import path, environ\n",
    "import mrec"
   ]
  },
  {
   "cell_type": "markdown",
   "metadata": {},
   "source": [
    "импортируем данные"
   ]
  },
  {
   "cell_type": "code",
   "execution_count": 2,
   "metadata": {},
   "outputs": [
    {
     "data": {
      "text/html": [
       "<div>\n",
       "<style>\n",
       "    .dataframe thead tr:only-child th {\n",
       "        text-align: right;\n",
       "    }\n",
       "\n",
       "    .dataframe thead th {\n",
       "        text-align: left;\n",
       "    }\n",
       "\n",
       "    .dataframe tbody tr th {\n",
       "        vertical-align: top;\n",
       "    }\n",
       "</style>\n",
       "<table border=\"1\" class=\"dataframe\">\n",
       "  <thead>\n",
       "    <tr style=\"text-align: right;\">\n",
       "      <th></th>\n",
       "      <th>user</th>\n",
       "      <th>artist-mbid</th>\n",
       "      <th>artist-name</th>\n",
       "      <th>total-plays</th>\n",
       "    </tr>\n",
       "  </thead>\n",
       "  <tbody>\n",
       "    <tr>\n",
       "      <th>999995</th>\n",
       "      <td>0e95d8066868c8e189cfe272f690ba11ab47e874</td>\n",
       "      <td>f2eef649-a6d5-4114-afba-e50ab26254d2</td>\n",
       "      <td>sum 41</td>\n",
       "      <td>100</td>\n",
       "    </tr>\n",
       "    <tr>\n",
       "      <th>999996</th>\n",
       "      <td>0e95d8066868c8e189cfe272f690ba11ab47e874</td>\n",
       "      <td>5f821136-9935-403c-abb5-e78ddda35e9f</td>\n",
       "      <td>bayside</td>\n",
       "      <td>98</td>\n",
       "    </tr>\n",
       "    <tr>\n",
       "      <th>999997</th>\n",
       "      <td>0e95d8066868c8e189cfe272f690ba11ab47e874</td>\n",
       "      <td>90cda7b7-9112-4ec7-9d6f-3f4675ef5130</td>\n",
       "      <td>scary kids scaring kids</td>\n",
       "      <td>93</td>\n",
       "    </tr>\n",
       "    <tr>\n",
       "      <th>999998</th>\n",
       "      <td>0e95d8066868c8e189cfe272f690ba11ab47e874</td>\n",
       "      <td>d8354b38-e942-4c89-ba93-29323432abc3</td>\n",
       "      <td>30 seconds to mars</td>\n",
       "      <td>92</td>\n",
       "    </tr>\n",
       "    <tr>\n",
       "      <th>999999</th>\n",
       "      <td>0e95d8066868c8e189cfe272f690ba11ab47e874</td>\n",
       "      <td>bc1c8f3f-6f36-4086-a470-87ed813dd429</td>\n",
       "      <td>alexisonfire</td>\n",
       "      <td>91</td>\n",
       "    </tr>\n",
       "  </tbody>\n",
       "</table>\n",
       "</div>"
      ],
      "text/plain": [
       "                                            user  \\\n",
       "999995  0e95d8066868c8e189cfe272f690ba11ab47e874   \n",
       "999996  0e95d8066868c8e189cfe272f690ba11ab47e874   \n",
       "999997  0e95d8066868c8e189cfe272f690ba11ab47e874   \n",
       "999998  0e95d8066868c8e189cfe272f690ba11ab47e874   \n",
       "999999  0e95d8066868c8e189cfe272f690ba11ab47e874   \n",
       "\n",
       "                                 artist-mbid              artist-name  \\\n",
       "999995  f2eef649-a6d5-4114-afba-e50ab26254d2                   sum 41   \n",
       "999996  5f821136-9935-403c-abb5-e78ddda35e9f                  bayside   \n",
       "999997  90cda7b7-9112-4ec7-9d6f-3f4675ef5130  scary kids scaring kids   \n",
       "999998  d8354b38-e942-4c89-ba93-29323432abc3       30 seconds to mars   \n",
       "999999  bc1c8f3f-6f36-4086-a470-87ed813dd429             alexisonfire   \n",
       "\n",
       "        total-plays  \n",
       "999995          100  \n",
       "999996           98  \n",
       "999997           93  \n",
       "999998           92  \n",
       "999999           91  "
      ]
     },
     "execution_count": 2,
     "metadata": {},
     "output_type": "execute_result"
    }
   ],
   "source": [
    "data_dir = \"/home/alex_k/Документы/mrec\"\n",
    "environ[\"data_dir\"] = \"/home/alex_k/Документы/mrec\"\n",
    "\n",
    "col_names = [\"user\", \"artist-mbid\", \"artist-name\", \"total-plays\"]\n",
    "data = pd.read_csv(\n",
    "    path.join(data_dir, \"lastfm_small.tsv\"),\n",
    "    sep=\"\\t\",\n",
    "    header=None,\n",
    "    names=col_names\n",
    ")\n",
    "data.tail()"
   ]
  },
  {
   "cell_type": "code",
   "execution_count": 3,
   "metadata": {},
   "outputs": [
    {
     "name": "stdout",
     "output_type": "stream",
     "text": [
      "<class 'pandas.core.frame.DataFrame'>\n",
      "RangeIndex: 1000000 entries, 0 to 999999\n",
      "Data columns (total 4 columns):\n",
      "user           1000000 non-null object\n",
      "artist-mbid    987168 non-null object\n",
      "artist-name    1000000 non-null object\n",
      "total-plays    1000000 non-null int64\n",
      "dtypes: int64(1), object(3)\n",
      "memory usage: 30.5+ MB\n"
     ]
    }
   ],
   "source": [
    "data.info()\n"
   ]
  },
  {
   "cell_type": "markdown",
   "metadata": {},
   "source": [
    "заполняем пустые ячейки и задаем индексы для \"user_id\" и \"artist_id\", нумерацию индексов начинаем с единицы чтобы в дальнейшем использовать mrec"
   ]
  },
  {
   "cell_type": "code",
   "execution_count": 4,
   "metadata": {},
   "outputs": [
    {
     "data": {
      "text/html": [
       "<div>\n",
       "<style>\n",
       "    .dataframe thead tr:only-child th {\n",
       "        text-align: right;\n",
       "    }\n",
       "\n",
       "    .dataframe thead th {\n",
       "        text-align: left;\n",
       "    }\n",
       "\n",
       "    .dataframe tbody tr th {\n",
       "        vertical-align: top;\n",
       "    }\n",
       "</style>\n",
       "<table border=\"1\" class=\"dataframe\">\n",
       "  <thead>\n",
       "    <tr style=\"text-align: right;\">\n",
       "      <th></th>\n",
       "      <th>total-plays</th>\n",
       "      <th>user_id</th>\n",
       "      <th>artist_id</th>\n",
       "    </tr>\n",
       "  </thead>\n",
       "  <tbody>\n",
       "    <tr>\n",
       "      <th>0</th>\n",
       "      <td>2137</td>\n",
       "      <td>1</td>\n",
       "      <td>15531</td>\n",
       "    </tr>\n",
       "    <tr>\n",
       "      <th>1</th>\n",
       "      <td>1099</td>\n",
       "      <td>1</td>\n",
       "      <td>63469</td>\n",
       "    </tr>\n",
       "    <tr>\n",
       "      <th>2</th>\n",
       "      <td>897</td>\n",
       "      <td>1</td>\n",
       "      <td>46858</td>\n",
       "    </tr>\n",
       "    <tr>\n",
       "      <th>3</th>\n",
       "      <td>717</td>\n",
       "      <td>1</td>\n",
       "      <td>15968</td>\n",
       "    </tr>\n",
       "    <tr>\n",
       "      <th>4</th>\n",
       "      <td>706</td>\n",
       "      <td>1</td>\n",
       "      <td>48969</td>\n",
       "    </tr>\n",
       "  </tbody>\n",
       "</table>\n",
       "</div>"
      ],
      "text/plain": [
       "   total-plays  user_id  artist_id\n",
       "0         2137        1      15531\n",
       "1         1099        1      63469\n",
       "2          897        1      46858\n",
       "3          717        1      15968\n",
       "4          706        1      48969"
      ]
     },
     "execution_count": 4,
     "metadata": {},
     "output_type": "execute_result"
    }
   ],
   "source": [
    "data.fillna(\"None\", inplace=True)\n",
    "data[\"user_id\"] = data[\"user\"].astype(\"category\").cat.codes.copy() + 1\n",
    "data[\"artist_id\"] = data[\"artist-mbid\"].astype(\"category\").cat.codes.copy() + 1\n",
    "data.drop([\"artist-name\", \"artist-mbid\", \"user\"], axis=1, inplace=True)\n",
    "data.head()"
   ]
  },
  {
   "cell_type": "markdown",
   "metadata": {},
   "source": [
    "разбиваем данные на обучающую и тестовую выборки"
   ]
  },
  {
   "cell_type": "code",
   "execution_count": 5,
   "metadata": {
    "collapsed": true
   },
   "outputs": [],
   "source": [
    "from sklearn.model_selection import train_test_split\n",
    "train, test = train_test_split(data, test_size=0.2)"
   ]
  },
  {
   "cell_type": "code",
   "execution_count": 6,
   "metadata": {},
   "outputs": [
    {
     "name": "stdout",
     "output_type": "stream",
     "text": [
      "нет в обучающей выборке, но есть в тестовой: 1\n",
      "нет в тестовой выборке, но есть в обучающей: 23\n",
      "всего пользователей: 20465\n"
     ]
    }
   ],
   "source": [
    "test_user_set = set(test[\"user_id\"].unique())\n",
    "train_user_set = set(train[\"user_id\"].unique())\n",
    "print(\"нет в обучающей выборке, но есть в тестовой: {}\".format(\n",
    "    len(test_user_set - train_user_set)))\n",
    "print(\"нет в тестовой выборке, но есть в обучающей: {}\".format(\n",
    "    len(train_user_set - test_user_set)))\n",
    "print(\"всего пользователей: {}\".format(len(data[\"user_id\"].unique())))"
   ]
  },
  {
   "cell_type": "code",
   "execution_count": 7,
   "metadata": {},
   "outputs": [
    {
     "name": "stderr",
     "output_type": "stream",
     "text": [
      "/usr/lib/python3.6/site-packages/ipykernel_launcher.py:3: SettingWithCopyWarning: \n",
      "A value is trying to be set on a copy of a slice from a DataFrame\n",
      "\n",
      "See the caveats in the documentation: http://pandas.pydata.org/pandas-docs/stable/indexing.html#indexing-view-versus-copy\n",
      "  This is separate from the ipykernel package so we can avoid doing imports until\n",
      "/usr/lib/python3.6/site-packages/ipykernel_launcher.py:5: SettingWithCopyWarning: \n",
      "A value is trying to be set on a copy of a slice from a DataFrame\n",
      "\n",
      "See the caveats in the documentation: http://pandas.pydata.org/pandas-docs/stable/indexing.html#indexing-view-versus-copy\n",
      "  \"\"\"\n"
     ]
    }
   ],
   "source": [
    "user_ids_to_exclude = (test_user_set - train_user_set).union(train_user_set - test_user_set)\n",
    "bad_indices = test[test[\"user_id\"].isin(user_ids_to_exclude).values].index\n",
    "test.drop(bad_indices, inplace=True)\n",
    "bad_indices = train[train[\"user_id\"].isin(user_ids_to_exclude).values]\n",
    "train.drop(bad_indices.index, inplace=True)"
   ]
  },
  {
   "cell_type": "markdown",
   "metadata": {},
   "source": [
    "запишем в файл обучающую и тестовую выборки (для использования данных файлов mrec_ом для оценки качества предсказаний)"
   ]
  },
  {
   "cell_type": "code",
   "execution_count": 8,
   "metadata": {
    "collapsed": true
   },
   "outputs": [],
   "source": [
    "test_file_name = \"lastfm.test.0\"\n",
    "test[[\"user_id\", \"artist_id\", \"total-plays\"]].to_csv(\n",
    "    path.join(data_dir, test_file_name),\n",
    "    sep=\"\\t\",\n",
    "    header=False,\n",
    "    index=False\n",
    ")\n",
    "train_file_name = \"lastfm.train.0\"\n",
    "train[[\"user_id\", \"artist_id\", \"total-plays\"]].to_csv(\n",
    "    path.join(data_dir, train_file_name),\n",
    "    sep=\"\\t\",\n",
    "    header=False,\n",
    "    index=False\n",
    ")"
   ]
  },
  {
   "cell_type": "code",
   "execution_count": 9,
   "metadata": {
    "collapsed": true
   },
   "outputs": [],
   "source": [
    "from scipy.sparse import csr_matrix\n",
    "\n",
    "def sparse_info(sparse_matrix: csr_matrix) -> None:\n",
    "    print(\"Размерности матрицы: {}\".format(sparse_matrix.shape))\n",
    "    print(\"Ненулевых элементов в матрице: {}\".format(sparse_matrix.nnz))\n",
    "    print(\"Доля ненулевых элементов: {}\"\n",
    "          .format(sparse_matrix.nnz / sparse_matrix.shape[0] / sparse_matrix.shape[1])\n",
    "    )\n",
    "    print(\"Среднее значение ненулевых элементов: {}\".format(sparse_matrix.data.mean()))\n",
    "    print(\"Максимальное значение ненулевых элементов: {}\".format(sparse_matrix.data.max()))\n",
    "    print(\"Минимальное значение ненулевых элементов: {}\".format(sparse_matrix.data.min()))"
   ]
  },
  {
   "cell_type": "markdown",
   "metadata": {},
   "source": [
    "создадим зазреженную матрицу, где в качестве строк будет выступать - \"artist_id\", в качестве столбцов - \"user_id\", на пересечениях будет стоять информация о количестве прослушиваний \"total-plays\"."
   ]
  },
  {
   "cell_type": "code",
   "execution_count": 10,
   "metadata": {},
   "outputs": [
    {
     "name": "stdout",
     "output_type": "stream",
     "text": [
      "Размерности матрицы: (66800, 20466)\n",
      "Ненулевых элементов в матрице: 799823\n",
      "Доля ненулевых элементов: 0.0005850385128306858\n",
      "Среднее значение ненулевых элементов: 216.62014470701644\n",
      "Максимальное значение ненулевых элементов: 134993.0\n",
      "Минимальное значение ненулевых элементов: 1.0\n"
     ]
    }
   ],
   "source": [
    "from scipy.sparse import coo_matrix\n",
    "import numpy as np\n",
    "\n",
    "plays = coo_matrix((\n",
    "    train[\"total-plays\"].astype(np.double),\n",
    "    (\n",
    "        train[\"artist_id\"],\n",
    "        train[\"user_id\"]\n",
    "    )\n",
    "))\n",
    "\n",
    "sparse_info(plays.tocsr())"
   ]
  },
  {
   "cell_type": "markdown",
   "metadata": {},
   "source": [
    "#### метод KNN по косинусной мере"
   ]
  },
  {
   "cell_type": "code",
   "execution_count": 11,
   "metadata": {
    "collapsed": true
   },
   "outputs": [],
   "source": [
    "from implicit.nearest_neighbours import CosineRecommender"
   ]
  },
  {
   "cell_type": "markdown",
   "metadata": {},
   "source": [
    "Для того что бы в дальнейшем попытаться посмотреть на различные метрики, обработаем тестовую выборку. Посчитаем среднее количество прослушиваний у каждого пользователя. Будем исходить из предположения 1 - прослушиваний больше среднего, 0 - прослушиваний меньше среднего, задачу рекомендации будем решать в виде бинарной классификации."
   ]
  },
  {
   "cell_type": "code",
   "execution_count": 12,
   "metadata": {},
   "outputs": [
    {
     "data": {
      "text/html": [
       "<div>\n",
       "<style>\n",
       "    .dataframe thead tr:only-child th {\n",
       "        text-align: right;\n",
       "    }\n",
       "\n",
       "    .dataframe thead th {\n",
       "        text-align: left;\n",
       "    }\n",
       "\n",
       "    .dataframe tbody tr th {\n",
       "        vertical-align: top;\n",
       "    }\n",
       "</style>\n",
       "<table border=\"1\" class=\"dataframe\">\n",
       "  <thead>\n",
       "    <tr style=\"text-align: right;\">\n",
       "      <th></th>\n",
       "      <th>total-plays_x</th>\n",
       "      <th>user_id</th>\n",
       "      <th>artist_id</th>\n",
       "      <th>total-plays_y</th>\n",
       "    </tr>\n",
       "  </thead>\n",
       "  <tbody>\n",
       "    <tr>\n",
       "      <th>0</th>\n",
       "      <td>110</td>\n",
       "      <td>7590</td>\n",
       "      <td>37535</td>\n",
       "      <td>243.0</td>\n",
       "    </tr>\n",
       "    <tr>\n",
       "      <th>1</th>\n",
       "      <td>587</td>\n",
       "      <td>7590</td>\n",
       "      <td>50278</td>\n",
       "      <td>243.0</td>\n",
       "    </tr>\n",
       "    <tr>\n",
       "      <th>2</th>\n",
       "      <td>329</td>\n",
       "      <td>7590</td>\n",
       "      <td>17512</td>\n",
       "      <td>243.0</td>\n",
       "    </tr>\n",
       "    <tr>\n",
       "      <th>3</th>\n",
       "      <td>227</td>\n",
       "      <td>7590</td>\n",
       "      <td>53744</td>\n",
       "      <td>243.0</td>\n",
       "    </tr>\n",
       "    <tr>\n",
       "      <th>4</th>\n",
       "      <td>161</td>\n",
       "      <td>7590</td>\n",
       "      <td>63129</td>\n",
       "      <td>243.0</td>\n",
       "    </tr>\n",
       "  </tbody>\n",
       "</table>\n",
       "</div>"
      ],
      "text/plain": [
       "   total-plays_x  user_id  artist_id  total-plays_y\n",
       "0            110     7590      37535          243.0\n",
       "1            587     7590      50278          243.0\n",
       "2            329     7590      17512          243.0\n",
       "3            227     7590      53744          243.0\n",
       "4            161     7590      63129          243.0"
      ]
     },
     "execution_count": 12,
     "metadata": {},
     "output_type": "execute_result"
    }
   ],
   "source": [
    "test1=test.groupby('user_id').mean().reset_index()\n",
    "test1 = test1.drop( ['artist_id'],axis=1)\n",
    "test1.head()\n",
    "test2 = test.merge( test1, how = 'outer', left_on = 'user_id', right_on = 'user_id' )\n",
    "test2.head()"
   ]
  },
  {
   "cell_type": "code",
   "execution_count": 13,
   "metadata": {
    "collapsed": true
   },
   "outputs": [],
   "source": [
    "from sklearn.metrics import mean_squared_error, roc_auc_score, average_precision_score, precision_score\n",
    "from math import sqrt\n",
    "# напишем функцию для среднего квадратичного отклонения\n",
    "def rmse(predict, truth):   \n",
    "    return sqrt(mean_squared_error(predict, truth))"
   ]
  },
  {
   "cell_type": "markdown",
   "metadata": {},
   "source": [
    "создадим и обучим нашу модель для различных параметров $K$, оценим качество показаний с помощью различных метрик, в том числе и с помощью mrec"
   ]
  },
  {
   "cell_type": "code",
   "execution_count": 26,
   "metadata": {},
   "outputs": [
    {
     "name": "stdout",
     "output_type": "stream",
     "text": [
      "K = 10, ROC-AUC: 0.4872563862254584\n",
      "K = 10, Precision: 0.9545867393278837\n",
      "K = 10, Average precision: 0.9556824319198318\n",
      "K = 10, RMSE: 958.0601088758082\n",
      "[2017-12-08 14:20:42,068] INFO: processing /home/alex_k/Документы/mrec/lastfm.test.0...\n",
      "None\n",
      "mrr            0.0354 +/- 0.0000\n",
      "prec@5         0.0122 +/- 0.0000\n",
      "prec@10        0.0110 +/- 0.0000\n",
      "prec@15        0.0073 +/- 0.0000\n",
      "prec@20        0.0055 +/- 0.0000\n",
      "\n",
      "K = 20, ROC-AUC: 0.4962373118655933\n",
      "K = 20, Precision: 0.96767537826685\n",
      "K = 20, Average precision: 0.9679144292088149\n",
      "K = 20, RMSE: 1007.1051522979154\n",
      "[2017-12-08 14:21:31,581] INFO: processing /home/alex_k/Документы/mrec/lastfm.test.0...\n",
      "None\n",
      "mrr            0.0487 +/- 0.0000\n",
      "prec@5         0.0164 +/- 0.0000\n",
      "prec@10        0.0144 +/- 0.0000\n",
      "prec@15        0.0096 +/- 0.0000\n",
      "prec@20        0.0072 +/- 0.0000\n",
      "\n",
      "K = 50, ROC-AUC: 0.478137529543879\n",
      "K = 50, Precision: 0.9745409015025042\n",
      "K = 50, Average precision: 0.9754811909334437\n",
      "K = 50, RMSE: 1056.9660267053894\n",
      "[2017-12-08 14:22:50,702] INFO: processing /home/alex_k/Документы/mrec/lastfm.test.0...\n",
      "None\n",
      "mrr            0.0806 +/- 0.0000\n",
      "prec@5         0.0271 +/- 0.0000\n",
      "prec@10        0.0227 +/- 0.0000\n",
      "prec@15        0.0151 +/- 0.0000\n",
      "prec@20        0.0113 +/- 0.0000\n",
      "\n",
      "K = 100, ROC-AUC: 0.5197639906530493\n",
      "K = 100, Precision: 0.9802955665024631\n",
      "K = 100, Average precision: 0.9795827329242358\n",
      "K = 100, RMSE: 1283.3514627081372\n",
      "[2017-12-08 14:25:00,750] INFO: processing /home/alex_k/Документы/mrec/lastfm.test.0...\n",
      "None\n",
      "mrr            0.1115 +/- 0.0000\n",
      "prec@5         0.0387 +/- 0.0000\n",
      "prec@10        0.0316 +/- 0.0000\n",
      "prec@15        0.0210 +/- 0.0000\n",
      "prec@20        0.0158 +/- 0.0000\n",
      "\n",
      "K = 200, ROC-AUC: 0.5398817020759449\n",
      "K = 200, Precision: 0.981692342040634\n",
      "K = 200, Average precision: 0.9802667736227471\n",
      "K = 200, RMSE: 1237.636647212839\n",
      "[2017-12-08 14:28:33,552] INFO: processing /home/alex_k/Документы/mrec/lastfm.test.0...\n",
      "None\n",
      "mrr            0.1428 +/- 0.0000\n",
      "prec@5         0.0512 +/- 0.0000\n",
      "prec@10        0.0407 +/- 0.0000\n",
      "prec@15        0.0271 +/- 0.0000\n",
      "prec@20        0.0203 +/- 0.0000\n",
      "\n",
      "K = 300, ROC-AUC: 0.5440938508750759\n",
      "K = 300, Precision: 0.9843089921544961\n",
      "K = 300, Average precision: 0.982920765726985\n",
      "K = 300, RMSE: 1198.7683138608863\n",
      "[2017-12-08 14:33:35,592] INFO: processing /home/alex_k/Документы/mrec/lastfm.test.0...\n",
      "None\n",
      "mrr            0.1565 +/- 0.0000\n",
      "prec@5         0.0571 +/- 0.0000\n",
      "prec@10        0.0453 +/- 0.0000\n",
      "prec@15        0.0302 +/- 0.0000\n",
      "prec@20        0.0226 +/- 0.0000\n",
      "\n",
      "K = 400, ROC-AUC: 0.5482046910771976\n",
      "K = 400, Precision: 0.9858589719090388\n",
      "K = 400, Average precision: 0.9844338710624996\n",
      "K = 400, RMSE: 1179.575643648784\n",
      "[2017-12-08 14:40:44,618] INFO: processing /home/alex_k/Документы/mrec/lastfm.test.0...\n",
      "None\n",
      "mrr            0.1641 +/- 0.0000\n",
      "prec@5         0.0605 +/- 0.0000\n",
      "prec@10        0.0481 +/- 0.0000\n",
      "prec@15        0.0320 +/- 0.0000\n",
      "prec@20        0.0240 +/- 0.0000\n",
      "\n",
      "K = 500, ROC-AUC: 0.5500124401616263\n",
      "K = 500, Precision: 0.9866419294990724\n",
      "K = 500, Average precision: 0.98521279297904\n",
      "K = 500, RMSE: 1169.466194193091\n",
      "[2017-12-08 14:50:14,231] INFO: processing /home/alex_k/Документы/mrec/lastfm.test.0...\n",
      "None\n",
      "mrr            0.1679 +/- 0.0000\n",
      "prec@5         0.0624 +/- 0.0000\n",
      "prec@10        0.0498 +/- 0.0000\n",
      "prec@15        0.0332 +/- 0.0000\n",
      "prec@20        0.0249 +/- 0.0000\n",
      "\n"
     ]
    }
   ],
   "source": [
    "k = [10,20,50,100,200,300,400,500]\n",
    "for i in k:\n",
    "    model = CosineRecommender(K=i)\n",
    "    model.fit(plays)\n",
    "    user_plays = plays.T.tocsr()\n",
    "    recommendations = []\n",
    "    for user_id in test[\"user_id\"].unique():\n",
    "        for artist_id, score in model.recommend(user_id, user_plays):\n",
    "            recommendations.append((user_id, artist_id, score))\n",
    "    \n",
    "    with open(path.join(data_dir,\"ml-latest-small\", test_file_name + \".recs.tsv\"), \"w\") as output_file:\n",
    "        for user_id in test[\"user_id\"].unique():\n",
    "            for artist_id, score in model.recommend(user_id, user_plays):\n",
    "                output_file.write(\"%s\\t%s\\t%s\\n\" % (user_id, artist_id, score))\n",
    "                \n",
    "    recommendations_data = pd.DataFrame(recommendations, columns=[\"user_id\",\"artist_id\",\"plays\"])\n",
    "    merged_data = pd.merge(test2, recommendations_data, on=['user_id', 'artist_id'])\n",
    "    merged_data.rename(columns = {'total-plays_x':'total_plays','total-plays_y':'plays_mean','plays':'plays_predict'}, inplace=True)\n",
    "    recommend = list(map(lambda x, y: 1 if x > y  else 0, merged_data[\"plays_predict\"], merged_data[\"plays_mean\"]))\n",
    "    fact = list(map(lambda x, y: 1 if x > y else 0, merged_data[\"total_plays\"], merged_data[\"plays_mean\"]))\n",
    "    print('K = {},'.format(i), 'ROC-AUC: {}'.format( roc_auc_score(recommend, fact) ))\n",
    "    print('K = {},'.format(i), 'Precision: {}'.format( precision_score(recommend, fact) ))\n",
    "    print('K = {},'.format(i), 'Average precision: {}'.format( average_precision_score(recommend, fact) ))\n",
    "    print('K = {},'.format(i), 'RMSE: {}'.format( rmse(merged_data[\"plays_predict\"], merged_data[\"total_plays\"]) ))\n",
    "    !./sbin/mrec_evaluate\\\n",
    "    --input_format=tsv --test_input_format=tsv \\\n",
    "    --train $data_dir/lastfm.test.0 \\\n",
    "    --recsdir $data_dir/ml-latest-small\n",
    "    print()"
   ]
  },
  {
   "cell_type": "markdown",
   "metadata": {},
   "source": [
    "#### метод ALS"
   ]
  },
  {
   "cell_type": "code",
   "execution_count": 2,
   "metadata": {
    "collapsed": true
   },
   "outputs": [],
   "source": [
    "import implicit"
   ]
  },
  {
   "cell_type": "code",
   "execution_count": 28,
   "metadata": {
    "collapsed": true
   },
   "outputs": [],
   "source": [
    "factors = [10, 50, 100, 200, 300, 400, 500]\n",
    "regularization = [0.001, 0.01, 0.1, 1.0]"
   ]
  },
  {
   "cell_type": "markdown",
   "metadata": {},
   "source": [
    "создадим и обучим модель, оценим качество рекомендаций с помощью mrec варьируя количество скрытых факторов и параметр регуляризации"
   ]
  },
  {
   "cell_type": "code",
   "execution_count": 40,
   "metadata": {},
   "outputs": [
    {
     "name": "stderr",
     "output_type": "stream",
     "text": [
      "WARNING:root:OpenBLAS detected. Its highly recommend to set the environment variable 'export OPENBLAS_NUM_THREADS=1' to disable its internal multithreading\n"
     ]
    },
    {
     "name": "stdout",
     "output_type": "stream",
     "text": [
      "factors = 10, regularization = 0.001\n",
      "[2017-12-08 15:23:16,843] INFO: processing /home/alex_k/Документы/mrec/lastfm.test.0...\n",
      "None\n",
      "mrr            0.2478 +/- 0.0000\n",
      "prec@5         0.1029 +/- 0.0000\n",
      "prec@10        0.0846 +/- 0.0000\n",
      "prec@15        0.0564 +/- 0.0000\n",
      "prec@20        0.0423 +/- 0.0000\n"
     ]
    },
    {
     "name": "stderr",
     "output_type": "stream",
     "text": [
      "WARNING:root:OpenBLAS detected. Its highly recommend to set the environment variable 'export OPENBLAS_NUM_THREADS=1' to disable its internal multithreading\n"
     ]
    },
    {
     "name": "stdout",
     "output_type": "stream",
     "text": [
      "\n",
      "factors = 10, regularization = 0.01\n",
      "[2017-12-08 15:24:16,558] INFO: processing /home/alex_k/Документы/mrec/lastfm.test.0...\n",
      "None\n",
      "mrr            0.2527 +/- 0.0000\n",
      "prec@5         0.1037 +/- 0.0000\n",
      "prec@10        0.0861 +/- 0.0000\n",
      "prec@15        0.0574 +/- 0.0000\n",
      "prec@20        0.0431 +/- 0.0000\n"
     ]
    },
    {
     "name": "stderr",
     "output_type": "stream",
     "text": [
      "WARNING:root:OpenBLAS detected. Its highly recommend to set the environment variable 'export OPENBLAS_NUM_THREADS=1' to disable its internal multithreading\n"
     ]
    },
    {
     "name": "stdout",
     "output_type": "stream",
     "text": [
      "\n",
      "factors = 10, regularization = 0.1\n",
      "[2017-12-08 15:25:18,540] INFO: processing /home/alex_k/Документы/mrec/lastfm.test.0...\n",
      "None\n",
      "mrr            0.2542 +/- 0.0000\n",
      "prec@5         0.1058 +/- 0.0000\n",
      "prec@10        0.0869 +/- 0.0000\n",
      "prec@15        0.0579 +/- 0.0000\n",
      "prec@20        0.0434 +/- 0.0000\n"
     ]
    },
    {
     "name": "stderr",
     "output_type": "stream",
     "text": [
      "WARNING:root:OpenBLAS detected. Its highly recommend to set the environment variable 'export OPENBLAS_NUM_THREADS=1' to disable its internal multithreading\n"
     ]
    },
    {
     "name": "stdout",
     "output_type": "stream",
     "text": [
      "\n",
      "factors = 10, regularization = 1.0\n",
      "[2017-12-08 15:26:19,100] INFO: processing /home/alex_k/Документы/mrec/lastfm.test.0...\n",
      "None\n",
      "mrr            0.2511 +/- 0.0000\n",
      "prec@5         0.1040 +/- 0.0000\n",
      "prec@10        0.0861 +/- 0.0000\n",
      "prec@15        0.0574 +/- 0.0000\n",
      "prec@20        0.0431 +/- 0.0000\n"
     ]
    },
    {
     "name": "stderr",
     "output_type": "stream",
     "text": [
      "WARNING:root:OpenBLAS detected. Its highly recommend to set the environment variable 'export OPENBLAS_NUM_THREADS=1' to disable its internal multithreading\n"
     ]
    },
    {
     "name": "stdout",
     "output_type": "stream",
     "text": [
      "\n",
      "factors = 50, regularization = 0.001\n",
      "[2017-12-08 15:28:16,984] INFO: processing /home/alex_k/Документы/mrec/lastfm.test.0...\n",
      "None\n",
      "mrr            0.3028 +/- 0.0000\n",
      "prec@5         0.1295 +/- 0.0000\n",
      "prec@10        0.1071 +/- 0.0000\n",
      "prec@15        0.0714 +/- 0.0000\n",
      "prec@20        0.0535 +/- 0.0000\n"
     ]
    },
    {
     "name": "stderr",
     "output_type": "stream",
     "text": [
      "WARNING:root:OpenBLAS detected. Its highly recommend to set the environment variable 'export OPENBLAS_NUM_THREADS=1' to disable its internal multithreading\n"
     ]
    },
    {
     "name": "stdout",
     "output_type": "stream",
     "text": [
      "\n",
      "factors = 50, regularization = 0.01\n",
      "[2017-12-08 15:30:16,677] INFO: processing /home/alex_k/Документы/mrec/lastfm.test.0...\n",
      "None\n",
      "mrr            0.2980 +/- 0.0000\n",
      "prec@5         0.1296 +/- 0.0000\n",
      "prec@10        0.1080 +/- 0.0000\n",
      "prec@15        0.0720 +/- 0.0000\n",
      "prec@20        0.0540 +/- 0.0000\n"
     ]
    },
    {
     "name": "stderr",
     "output_type": "stream",
     "text": [
      "WARNING:root:OpenBLAS detected. Its highly recommend to set the environment variable 'export OPENBLAS_NUM_THREADS=1' to disable its internal multithreading\n"
     ]
    },
    {
     "name": "stdout",
     "output_type": "stream",
     "text": [
      "\n",
      "factors = 50, regularization = 0.1\n",
      "[2017-12-08 15:32:13,335] INFO: processing /home/alex_k/Документы/mrec/lastfm.test.0...\n",
      "None\n",
      "mrr            0.2982 +/- 0.0000\n",
      "prec@5         0.1288 +/- 0.0000\n",
      "prec@10        0.1073 +/- 0.0000\n",
      "prec@15        0.0715 +/- 0.0000\n",
      "prec@20        0.0536 +/- 0.0000\n"
     ]
    },
    {
     "name": "stderr",
     "output_type": "stream",
     "text": [
      "WARNING:root:OpenBLAS detected. Its highly recommend to set the environment variable 'export OPENBLAS_NUM_THREADS=1' to disable its internal multithreading\n"
     ]
    },
    {
     "name": "stdout",
     "output_type": "stream",
     "text": [
      "\n",
      "factors = 50, regularization = 1.0\n",
      "[2017-12-08 15:34:15,900] INFO: processing /home/alex_k/Документы/mrec/lastfm.test.0...\n",
      "None\n",
      "mrr            0.2957 +/- 0.0000\n",
      "prec@5         0.1284 +/- 0.0000\n",
      "prec@10        0.1080 +/- 0.0000\n",
      "prec@15        0.0720 +/- 0.0000\n",
      "prec@20        0.0540 +/- 0.0000\n",
      "\n"
     ]
    },
    {
     "name": "stderr",
     "output_type": "stream",
     "text": [
      "WARNING:root:OpenBLAS detected. Its highly recommend to set the environment variable 'export OPENBLAS_NUM_THREADS=1' to disable its internal multithreading\n"
     ]
    },
    {
     "name": "stdout",
     "output_type": "stream",
     "text": [
      "factors = 100, regularization = 0.001\n",
      "[2017-12-08 15:37:35,553] INFO: processing /home/alex_k/Документы/mrec/lastfm.test.0...\n",
      "None\n",
      "mrr            0.3099 +/- 0.0000\n",
      "prec@5         0.1351 +/- 0.0000\n",
      "prec@10        0.1104 +/- 0.0000\n",
      "prec@15        0.0736 +/- 0.0000\n",
      "prec@20        0.0552 +/- 0.0000\n"
     ]
    },
    {
     "name": "stderr",
     "output_type": "stream",
     "text": [
      "WARNING:root:OpenBLAS detected. Its highly recommend to set the environment variable 'export OPENBLAS_NUM_THREADS=1' to disable its internal multithreading\n"
     ]
    },
    {
     "name": "stdout",
     "output_type": "stream",
     "text": [
      "\n",
      "factors = 100, regularization = 0.01\n",
      "[2017-12-08 15:41:03,114] INFO: processing /home/alex_k/Документы/mrec/lastfm.test.0...\n",
      "None\n",
      "mrr            0.3146 +/- 0.0000\n",
      "prec@5         0.1381 +/- 0.0000\n",
      "prec@10        0.1127 +/- 0.0000\n",
      "prec@15        0.0752 +/- 0.0000\n",
      "prec@20        0.0564 +/- 0.0000\n"
     ]
    },
    {
     "name": "stderr",
     "output_type": "stream",
     "text": [
      "WARNING:root:OpenBLAS detected. Its highly recommend to set the environment variable 'export OPENBLAS_NUM_THREADS=1' to disable its internal multithreading\n"
     ]
    },
    {
     "name": "stdout",
     "output_type": "stream",
     "text": [
      "\n",
      "factors = 100, regularization = 0.1\n",
      "[2017-12-08 15:44:25,882] INFO: processing /home/alex_k/Документы/mrec/lastfm.test.0...\n",
      "None\n",
      "mrr            0.3162 +/- 0.0000\n",
      "prec@5         0.1378 +/- 0.0000\n",
      "prec@10        0.1138 +/- 0.0000\n",
      "prec@15        0.0759 +/- 0.0000\n",
      "prec@20        0.0569 +/- 0.0000\n"
     ]
    },
    {
     "name": "stderr",
     "output_type": "stream",
     "text": [
      "WARNING:root:OpenBLAS detected. Its highly recommend to set the environment variable 'export OPENBLAS_NUM_THREADS=1' to disable its internal multithreading\n"
     ]
    },
    {
     "name": "stdout",
     "output_type": "stream",
     "text": [
      "\n",
      "factors = 100, regularization = 1.0\n",
      "[2017-12-08 15:47:50,651] INFO: processing /home/alex_k/Документы/mrec/lastfm.test.0...\n",
      "None\n",
      "mrr            0.3204 +/- 0.0000\n",
      "prec@5         0.1402 +/- 0.0000\n",
      "prec@10        0.1161 +/- 0.0000\n",
      "prec@15        0.0774 +/- 0.0000\n",
      "prec@20        0.0580 +/- 0.0000\n"
     ]
    },
    {
     "name": "stderr",
     "output_type": "stream",
     "text": [
      "WARNING:root:OpenBLAS detected. Its highly recommend to set the environment variable 'export OPENBLAS_NUM_THREADS=1' to disable its internal multithreading\n"
     ]
    },
    {
     "name": "stdout",
     "output_type": "stream",
     "text": [
      "\n",
      "factors = 200, regularization = 0.001\n",
      "[2017-12-08 15:53:30,403] INFO: processing /home/alex_k/Документы/mrec/lastfm.test.0...\n",
      "None\n",
      "mrr            0.3255 +/- 0.0000\n",
      "prec@5         0.1435 +/- 0.0000\n",
      "prec@10        0.1155 +/- 0.0000\n",
      "prec@15        0.0770 +/- 0.0000\n",
      "prec@20        0.0578 +/- 0.0000\n"
     ]
    },
    {
     "name": "stderr",
     "output_type": "stream",
     "text": [
      "WARNING:root:OpenBLAS detected. Its highly recommend to set the environment variable 'export OPENBLAS_NUM_THREADS=1' to disable its internal multithreading\n"
     ]
    },
    {
     "name": "stdout",
     "output_type": "stream",
     "text": [
      "\n",
      "factors = 200, regularization = 0.01\n",
      "[2017-12-08 15:59:18,197] INFO: processing /home/alex_k/Документы/mrec/lastfm.test.0...\n",
      "None\n",
      "mrr            0.3279 +/- 0.0000\n",
      "prec@5         0.1439 +/- 0.0000\n",
      "prec@10        0.1165 +/- 0.0000\n",
      "prec@15        0.0777 +/- 0.0000\n",
      "prec@20        0.0583 +/- 0.0000\n"
     ]
    },
    {
     "name": "stderr",
     "output_type": "stream",
     "text": [
      "WARNING:root:OpenBLAS detected. Its highly recommend to set the environment variable 'export OPENBLAS_NUM_THREADS=1' to disable its internal multithreading\n"
     ]
    },
    {
     "name": "stdout",
     "output_type": "stream",
     "text": [
      "\n",
      "factors = 200, regularization = 0.1\n",
      "[2017-12-08 16:05:00,195] INFO: processing /home/alex_k/Документы/mrec/lastfm.test.0...\n",
      "None\n",
      "mrr            0.3282 +/- 0.0000\n",
      "prec@5         0.1453 +/- 0.0000\n",
      "prec@10        0.1175 +/- 0.0000\n",
      "prec@15        0.0784 +/- 0.0000\n",
      "prec@20        0.0588 +/- 0.0000\n"
     ]
    },
    {
     "name": "stderr",
     "output_type": "stream",
     "text": [
      "WARNING:root:OpenBLAS detected. Its highly recommend to set the environment variable 'export OPENBLAS_NUM_THREADS=1' to disable its internal multithreading\n"
     ]
    },
    {
     "name": "stdout",
     "output_type": "stream",
     "text": [
      "\n",
      "factors = 200, regularization = 1.0\n",
      "[2017-12-08 16:10:42,194] INFO: processing /home/alex_k/Документы/mrec/lastfm.test.0...\n",
      "None\n",
      "mrr            0.3399 +/- 0.0000\n",
      "prec@5         0.1499 +/- 0.0000\n",
      "prec@10        0.1216 +/- 0.0000\n",
      "prec@15        0.0811 +/- 0.0000\n",
      "prec@20        0.0608 +/- 0.0000\n"
     ]
    },
    {
     "name": "stderr",
     "output_type": "stream",
     "text": [
      "WARNING:root:OpenBLAS detected. Its highly recommend to set the environment variable 'export OPENBLAS_NUM_THREADS=1' to disable its internal multithreading\n"
     ]
    },
    {
     "name": "stdout",
     "output_type": "stream",
     "text": [
      "\n",
      "factors = 300, regularization = 0.001\n",
      "[2017-12-08 16:19:27,137] INFO: processing /home/alex_k/Документы/mrec/lastfm.test.0...\n",
      "None\n",
      "mrr            0.3301 +/- 0.0000\n",
      "prec@5         0.1447 +/- 0.0000\n",
      "prec@10        0.1155 +/- 0.0000\n",
      "prec@15        0.0770 +/- 0.0000\n",
      "prec@20        0.0578 +/- 0.0000\n"
     ]
    },
    {
     "name": "stderr",
     "output_type": "stream",
     "text": [
      "WARNING:root:OpenBLAS detected. Its highly recommend to set the environment variable 'export OPENBLAS_NUM_THREADS=1' to disable its internal multithreading\n"
     ]
    },
    {
     "name": "stdout",
     "output_type": "stream",
     "text": [
      "\n",
      "factors = 300, regularization = 0.01\n",
      "[2017-12-08 16:28:10,793] INFO: processing /home/alex_k/Документы/mrec/lastfm.test.0...\n",
      "None\n",
      "mrr            0.3341 +/- 0.0000\n",
      "prec@5         0.1474 +/- 0.0000\n",
      "prec@10        0.1174 +/- 0.0000\n",
      "prec@15        0.0783 +/- 0.0000\n",
      "prec@20        0.0587 +/- 0.0000\n"
     ]
    },
    {
     "name": "stderr",
     "output_type": "stream",
     "text": [
      "WARNING:root:OpenBLAS detected. Its highly recommend to set the environment variable 'export OPENBLAS_NUM_THREADS=1' to disable its internal multithreading\n"
     ]
    },
    {
     "name": "stdout",
     "output_type": "stream",
     "text": [
      "\n",
      "factors = 300, regularization = 0.1\n",
      "[2017-12-08 16:36:56,434] INFO: processing /home/alex_k/Документы/mrec/lastfm.test.0...\n",
      "None\n",
      "mrr            0.3341 +/- 0.0000\n",
      "prec@5         0.1474 +/- 0.0000\n",
      "prec@10        0.1182 +/- 0.0000\n",
      "prec@15        0.0788 +/- 0.0000\n",
      "prec@20        0.0591 +/- 0.0000\n"
     ]
    },
    {
     "name": "stderr",
     "output_type": "stream",
     "text": [
      "WARNING:root:OpenBLAS detected. Its highly recommend to set the environment variable 'export OPENBLAS_NUM_THREADS=1' to disable its internal multithreading\n"
     ]
    },
    {
     "name": "stdout",
     "output_type": "stream",
     "text": [
      "\n",
      "factors = 300, regularization = 1.0\n",
      "[2017-12-08 16:45:41,406] INFO: processing /home/alex_k/Документы/mrec/lastfm.test.0...\n",
      "None\n",
      "mrr            0.3483 +/- 0.0000\n",
      "prec@5         0.1548 +/- 0.0000\n",
      "prec@10        0.1236 +/- 0.0000\n",
      "prec@15        0.0824 +/- 0.0000\n",
      "prec@20        0.0618 +/- 0.0000\n"
     ]
    },
    {
     "name": "stderr",
     "output_type": "stream",
     "text": [
      "WARNING:root:OpenBLAS detected. Its highly recommend to set the environment variable 'export OPENBLAS_NUM_THREADS=1' to disable its internal multithreading\n"
     ]
    },
    {
     "name": "stdout",
     "output_type": "stream",
     "text": [
      "\n",
      "factors = 400, regularization = 0.001\n",
      "[2017-12-08 16:57:27,360] INFO: processing /home/alex_k/Документы/mrec/lastfm.test.0...\n",
      "None\n",
      "mrr            0.3281 +/- 0.0000\n",
      "prec@5         0.1437 +/- 0.0000\n",
      "prec@10        0.1147 +/- 0.0000\n",
      "prec@15        0.0765 +/- 0.0000\n",
      "prec@20        0.0574 +/- 0.0000\n"
     ]
    },
    {
     "name": "stderr",
     "output_type": "stream",
     "text": [
      "WARNING:root:OpenBLAS detected. Its highly recommend to set the environment variable 'export OPENBLAS_NUM_THREADS=1' to disable its internal multithreading\n"
     ]
    },
    {
     "name": "stdout",
     "output_type": "stream",
     "text": [
      "\n",
      "factors = 400, regularization = 0.01\n",
      "[2017-12-08 17:09:28,622] INFO: processing /home/alex_k/Документы/mrec/lastfm.test.0...\n",
      "None\n",
      "mrr            0.3307 +/- 0.0000\n",
      "prec@5         0.1447 +/- 0.0000\n",
      "prec@10        0.1153 +/- 0.0000\n",
      "prec@15        0.0768 +/- 0.0000\n",
      "prec@20        0.0576 +/- 0.0000\n"
     ]
    },
    {
     "name": "stderr",
     "output_type": "stream",
     "text": [
      "WARNING:root:OpenBLAS detected. Its highly recommend to set the environment variable 'export OPENBLAS_NUM_THREADS=1' to disable its internal multithreading\n"
     ]
    },
    {
     "name": "stdout",
     "output_type": "stream",
     "text": [
      "\n",
      "factors = 400, regularization = 0.1\n",
      "[2017-12-08 17:21:00,473] INFO: processing /home/alex_k/Документы/mrec/lastfm.test.0...\n",
      "None\n",
      "mrr            0.3311 +/- 0.0000\n",
      "prec@5         0.1462 +/- 0.0000\n",
      "prec@10        0.1172 +/- 0.0000\n",
      "prec@15        0.0781 +/- 0.0000\n",
      "prec@20        0.0586 +/- 0.0000\n"
     ]
    },
    {
     "name": "stderr",
     "output_type": "stream",
     "text": [
      "WARNING:root:OpenBLAS detected. Its highly recommend to set the environment variable 'export OPENBLAS_NUM_THREADS=1' to disable its internal multithreading\n"
     ]
    },
    {
     "name": "stdout",
     "output_type": "stream",
     "text": [
      "\n",
      "factors = 400, regularization = 1.0\n",
      "[2017-12-08 17:32:29,791] INFO: processing /home/alex_k/Документы/mrec/lastfm.test.0...\n",
      "None\n",
      "mrr            0.3521 +/- 0.0000\n",
      "prec@5         0.1564 +/- 0.0000\n",
      "prec@10        0.1248 +/- 0.0000\n",
      "prec@15        0.0832 +/- 0.0000\n",
      "prec@20        0.0624 +/- 0.0000\n"
     ]
    },
    {
     "name": "stderr",
     "output_type": "stream",
     "text": [
      "WARNING:root:OpenBLAS detected. Its highly recommend to set the environment variable 'export OPENBLAS_NUM_THREADS=1' to disable its internal multithreading\n"
     ]
    },
    {
     "name": "stdout",
     "output_type": "stream",
     "text": [
      "\n",
      "factors = 500, regularization = 0.001\n",
      "[2017-12-08 17:48:09,173] INFO: processing /home/alex_k/Документы/mrec/lastfm.test.0...\n",
      "None\n",
      "mrr            0.3257 +/- 0.0000\n",
      "prec@5         0.1416 +/- 0.0000\n",
      "prec@10        0.1125 +/- 0.0000\n",
      "prec@15        0.0750 +/- 0.0000\n",
      "prec@20        0.0562 +/- 0.0000\n"
     ]
    },
    {
     "name": "stderr",
     "output_type": "stream",
     "text": [
      "WARNING:root:OpenBLAS detected. Its highly recommend to set the environment variable 'export OPENBLAS_NUM_THREADS=1' to disable its internal multithreading\n"
     ]
    },
    {
     "name": "stdout",
     "output_type": "stream",
     "text": [
      "\n",
      "factors = 500, regularization = 0.01\n",
      "[2017-12-08 18:03:44,596] INFO: processing /home/alex_k/Документы/mrec/lastfm.test.0...\n",
      "None\n",
      "mrr            0.3269 +/- 0.0000\n",
      "prec@5         0.1427 +/- 0.0000\n",
      "prec@10        0.1133 +/- 0.0000\n",
      "prec@15        0.0756 +/- 0.0000\n",
      "prec@20        0.0567 +/- 0.0000\n"
     ]
    },
    {
     "name": "stderr",
     "output_type": "stream",
     "text": [
      "WARNING:root:OpenBLAS detected. Its highly recommend to set the environment variable 'export OPENBLAS_NUM_THREADS=1' to disable its internal multithreading\n"
     ]
    },
    {
     "name": "stdout",
     "output_type": "stream",
     "text": [
      "\n",
      "factors = 500, regularization = 0.1\n",
      "[2017-12-08 18:19:22,077] INFO: processing /home/alex_k/Документы/mrec/lastfm.test.0...\n",
      "None\n",
      "mrr            0.3315 +/- 0.0000\n",
      "prec@5         0.1456 +/- 0.0000\n",
      "prec@10        0.1157 +/- 0.0000\n",
      "prec@15        0.0771 +/- 0.0000\n",
      "prec@20        0.0578 +/- 0.0000\n"
     ]
    },
    {
     "name": "stderr",
     "output_type": "stream",
     "text": [
      "WARNING:root:OpenBLAS detected. Its highly recommend to set the environment variable 'export OPENBLAS_NUM_THREADS=1' to disable its internal multithreading\n"
     ]
    },
    {
     "name": "stdout",
     "output_type": "stream",
     "text": [
      "\n",
      "factors = 500, regularization = 1.0\n",
      "[2017-12-08 18:34:58,323] INFO: processing /home/alex_k/Документы/mrec/lastfm.test.0...\n",
      "None\n",
      "mrr            0.3507 +/- 0.0000\n",
      "prec@5         0.1557 +/- 0.0000\n",
      "prec@10        0.1248 +/- 0.0000\n",
      "prec@15        0.0832 +/- 0.0000\n",
      "prec@20        0.0624 +/- 0.0000\n",
      "\n"
     ]
    }
   ],
   "source": [
    "for i in factors:\n",
    "    for j in regularization:\n",
    "        model_als = implicit.als.AlternatingLeastSquares(factors=i, regularization=j)\n",
    "        model_als.fit(plays)\n",
    "        user_plays = plays.T.tocsr()\n",
    "        \n",
    "        with open(path.join(data_dir,\"ml-latest-small\", test_file_name + \".recs.tsv\"), \"w\") as output_file:\n",
    "            for user_id in test[\"user_id\"].unique():\n",
    "                for artist_id, score in model_als.recommend(user_id, user_plays):\n",
    "                    output_file.write(\"%s\\t%s\\t%s\\n\" % (user_id, artist_id, score))\n",
    "        print('factors = {},'.format(i), 'regularization = {}'.format(j))       \n",
    "        !./sbin/mrec_evaluate\\\n",
    "            --input_format=tsv --test_input_format=tsv \\\n",
    "            --train $data_dir/lastfm.test.0 \\\n",
    "            --recsdir $data_dir/ml-latest-small\n",
    "        print()"
   ]
  },
  {
   "cell_type": "code",
   "execution_count": null,
   "metadata": {
    "collapsed": true
   },
   "outputs": [],
   "source": []
  },
  {
   "cell_type": "code",
   "execution_count": null,
   "metadata": {
    "collapsed": true
   },
   "outputs": [],
   "source": []
  }
 ],
 "metadata": {
  "kernelspec": {
   "display_name": "Python 3",
   "language": "python",
   "name": "python3"
  },
  "language_info": {
   "codemirror_mode": {
    "name": "ipython",
    "version": 3
   },
   "file_extension": ".py",
   "mimetype": "text/x-python",
   "name": "python",
   "nbconvert_exporter": "python",
   "pygments_lexer": "ipython3",
   "version": "3.6.3"
  }
 },
 "nbformat": 4,
 "nbformat_minor": 2
}
